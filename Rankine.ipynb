{
  "nbformat": 4,
  "nbformat_minor": 0,
  "metadata": {
    "colab": {
      "name": "Rankine.ipynb",
      "provenance": []
    },
    "kernelspec": {
      "name": "python3",
      "display_name": "Python 3"
    },
    "language_info": {
      "name": "python"
    }
  },
  "cells": [
    {
      "cell_type": "code",
      "execution_count": 164,
      "metadata": {
        "colab": {
          "base_uri": "https://localhost:8080/"
        },
        "id": "iJtOPXdxBRI_",
        "outputId": "24f0b67b-f6c4-456f-9c11-ed8122b22564"
      },
      "outputs": [
        {
          "output_type": "stream",
          "name": "stdout",
          "text": [
            "1494.4332361951724 kg/s Pentane\n",
            "368.0  kg/s Cold water flow rate\n",
            "3  kW to pump cold water\n",
            "132.30715584447927  kW to pump neopentane\n",
            "715.0  kg/s Hot water flow rate\n",
            "26.77277777777778  kW to pump hot water\n",
            "4.256769374416434 % efficiency\n"
          ]
        }
      ],
      "source": [
        "# 5.5\n",
        "# States 1,2,3,4 to produce 20000 kW power\n",
        "# 26C warm water, 3C cold water\n",
        "\n",
        "\n",
        "NeoPentaneFlow=0;\n",
        "NeoPentaneEnthalpy2=337.13;\n",
        "# 24C inlet turbine\n",
        "NeoPentaneEnthalpy3=322.26;\n",
        "# 14C outlet turbine\n",
        "\n",
        "# 90 percent turbine/pump efficiency\n",
        "# Ws = m*(H2-H1)\n",
        "NeoPentaneFlow= (20000/(0.90*-(NeoPentaneEnthalpy3-NeoPentaneEnthalpy2)))\n",
        "\n",
        "# Cool from 14C to 9C (vapor to liq) in condenser\n",
        "# MC(T2-T1)=-MC(T2-T1)\n",
        "CoolWaterFlow = 0;\n",
        "\n",
        "CoolWaterFlow=(-NeoPentaneFlow*2271.5*((9+273.15)-(14+273.15)))//(4184*((14+273.15)-(3+273.15)))\n",
        "\n",
        "# Pump cold water power\n",
        "# W = V(P2-P1) * mass flow where P is 0.0007 bar\n",
        "\n",
        "\n",
        "ColdWaterPumpPower = 0;\n",
        "ColdWaterPumpPower = (CoolWaterFlow * (0.001*(7))/ 0.90)\n",
        "\n",
        "\n",
        "# Pump working fluid from 1.18 bar to 1.66 bar with specific volume 0.00166 m^3/kg\n",
        "\n",
        "PentanePumpWork = 0;\n",
        "PentanePumpWork = ((0.00166*(166-118))/0.90)\n",
        "\n",
        "# Work * Flow = Power\n",
        "\n",
        "NeopentanePumpPower = PentanePumpWork * NeoPentaneFlow\n",
        "\n",
        "# Heat from 9 to 24 C (liq to vap)\n",
        "HotWaterFlow = 0;\n",
        "\n",
        "HotWaterFlow=(NeoPentaneFlow*2271.5*((24+273.15)-(9+273.15)))//(-4184*((9+273.15)-(26+273.15)))\n",
        "\n",
        "# Pump hot water power\n",
        "\n",
        "HotWaterPumpPower = 0;\n",
        "HotWaterPumpPower = (HotWaterFlow * (0.001*33.7) / 0.90)\n",
        "\n",
        "# Efficiency\n",
        "# Wnet / Qh = n\n",
        "\n",
        "WorkNet = (NeoPentaneEnthalpy3-NeoPentaneEnthalpy2) + (0.001*(7)) + (0.001*33.7) + PentanePumpWork\n",
        "Qh = 337.13 + 9.16\n",
        "N = -WorkNet / Qh\n",
        "\n",
        "\n",
        "print(NeoPentaneFlow, \"kg/s Pentane\")\n",
        "print(CoolWaterFlow, \" kg/s Cold water flow rate\")\n",
        "print(round(ColdWaterPumpPower) , \" kW to pump cold water\")\n",
        "print(NeopentanePumpPower, \" kW to pump neopentane\")\n",
        "print(HotWaterFlow, \" kg/s Hot water flow rate\")\n",
        "print(HotWaterPumpPower , \" kW to pump hot water\")\n",
        "print(N * 100 , \"% efficiency\")"
      ]
    },
    {
      "cell_type": "code",
      "source": [
        ""
      ],
      "metadata": {
        "id": "6crtXp2UeavK"
      },
      "execution_count": null,
      "outputs": []
    }
  ]
}